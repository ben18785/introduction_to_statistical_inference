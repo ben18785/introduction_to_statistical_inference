{
 "cells": [
  {
   "cell_type": "markdown",
   "metadata": {},
   "source": [
    "# Analysing determinants of wine price using wine review data"
   ]
  },
  {
   "cell_type": "markdown",
   "metadata": {},
   "source": [
    "In this example, we are going to use a subset of a large [dataset of wine reviews](https://www.kaggle.com/zynicide/wine-reviews) to examine the relationship between critic-ascribed quality (\"points\") and the price of wines.\n",
    "\n",
    "The analysis is going to be carried out using regression."
   ]
  },
  {
   "cell_type": "markdown",
   "metadata": {},
   "source": [
    "Using Pandas, import the data into a dataframe and examine the first few rows of it."
   ]
  },
  {
   "cell_type": "code",
   "execution_count": 1,
   "metadata": {},
   "outputs": [
    {
     "data": {
      "text/html": [
       "<div>\n",
       "<style scoped>\n",
       "    .dataframe tbody tr th:only-of-type {\n",
       "        vertical-align: middle;\n",
       "    }\n",
       "\n",
       "    .dataframe tbody tr th {\n",
       "        vertical-align: top;\n",
       "    }\n",
       "\n",
       "    .dataframe thead th {\n",
       "        text-align: right;\n",
       "    }\n",
       "</style>\n",
       "<table border=\"1\" class=\"dataframe\">\n",
       "  <thead>\n",
       "    <tr style=\"text-align: right;\">\n",
       "      <th></th>\n",
       "      <th>country</th>\n",
       "      <th>description</th>\n",
       "      <th>designation</th>\n",
       "      <th>points</th>\n",
       "      <th>price</th>\n",
       "      <th>province</th>\n",
       "      <th>region_1</th>\n",
       "      <th>region_2</th>\n",
       "      <th>variety</th>\n",
       "      <th>winery</th>\n",
       "      <th>...</th>\n",
       "      <th>desc_crisp</th>\n",
       "      <th>desc_eucalyptus</th>\n",
       "      <th>desc_pepper</th>\n",
       "      <th>desc_stone</th>\n",
       "      <th>desc_light</th>\n",
       "      <th>desc_dry</th>\n",
       "      <th>desc_acidic</th>\n",
       "      <th>desc_salt</th>\n",
       "      <th>desc_medium bodied</th>\n",
       "      <th>desc_full bodied</th>\n",
       "    </tr>\n",
       "  </thead>\n",
       "  <tbody>\n",
       "    <tr>\n",
       "      <th>0</th>\n",
       "      <td>US</td>\n",
       "      <td>This tremendous 100% varietal wine hails from ...</td>\n",
       "      <td>Martha's Vineyard</td>\n",
       "      <td>96</td>\n",
       "      <td>235</td>\n",
       "      <td>California</td>\n",
       "      <td>Napa Valley</td>\n",
       "      <td>Napa</td>\n",
       "      <td>Cabernet Sauvignon</td>\n",
       "      <td>Heitz</td>\n",
       "      <td>...</td>\n",
       "      <td>0</td>\n",
       "      <td>0</td>\n",
       "      <td>0</td>\n",
       "      <td>0</td>\n",
       "      <td>0</td>\n",
       "      <td>0</td>\n",
       "      <td>0</td>\n",
       "      <td>0</td>\n",
       "      <td>0</td>\n",
       "      <td>0</td>\n",
       "    </tr>\n",
       "    <tr>\n",
       "      <th>1</th>\n",
       "      <td>Spain</td>\n",
       "      <td>Ripe aromas of fig, blackberry and cassis are ...</td>\n",
       "      <td>Carodorum Selección Especial Reserva</td>\n",
       "      <td>96</td>\n",
       "      <td>110</td>\n",
       "      <td>Northern Spain</td>\n",
       "      <td>Toro</td>\n",
       "      <td>NaN</td>\n",
       "      <td>Tinta de Toro</td>\n",
       "      <td>Bodega Carmen Rodríguez</td>\n",
       "      <td>...</td>\n",
       "      <td>0</td>\n",
       "      <td>0</td>\n",
       "      <td>0</td>\n",
       "      <td>0</td>\n",
       "      <td>0</td>\n",
       "      <td>0</td>\n",
       "      <td>0</td>\n",
       "      <td>0</td>\n",
       "      <td>0</td>\n",
       "      <td>0</td>\n",
       "    </tr>\n",
       "    <tr>\n",
       "      <th>2</th>\n",
       "      <td>US</td>\n",
       "      <td>Mac Watson honors the memory of a wine once ma...</td>\n",
       "      <td>Special Selected Late Harvest</td>\n",
       "      <td>96</td>\n",
       "      <td>90</td>\n",
       "      <td>California</td>\n",
       "      <td>Knights Valley</td>\n",
       "      <td>Sonoma</td>\n",
       "      <td>Sauvignon Blanc</td>\n",
       "      <td>Macauley</td>\n",
       "      <td>...</td>\n",
       "      <td>0</td>\n",
       "      <td>0</td>\n",
       "      <td>0</td>\n",
       "      <td>0</td>\n",
       "      <td>0</td>\n",
       "      <td>0</td>\n",
       "      <td>0</td>\n",
       "      <td>0</td>\n",
       "      <td>0</td>\n",
       "      <td>0</td>\n",
       "    </tr>\n",
       "    <tr>\n",
       "      <th>3</th>\n",
       "      <td>US</td>\n",
       "      <td>This spent 20 months in 30% new French oak, an...</td>\n",
       "      <td>Reserve</td>\n",
       "      <td>96</td>\n",
       "      <td>65</td>\n",
       "      <td>Oregon</td>\n",
       "      <td>Willamette Valley</td>\n",
       "      <td>Willamette Valley</td>\n",
       "      <td>Pinot Noir</td>\n",
       "      <td>Ponzi</td>\n",
       "      <td>...</td>\n",
       "      <td>0</td>\n",
       "      <td>0</td>\n",
       "      <td>0</td>\n",
       "      <td>0</td>\n",
       "      <td>0</td>\n",
       "      <td>0</td>\n",
       "      <td>0</td>\n",
       "      <td>0</td>\n",
       "      <td>0</td>\n",
       "      <td>0</td>\n",
       "    </tr>\n",
       "    <tr>\n",
       "      <th>4</th>\n",
       "      <td>France</td>\n",
       "      <td>This is the top wine from La Bégude, named aft...</td>\n",
       "      <td>La Brûlade</td>\n",
       "      <td>95</td>\n",
       "      <td>66</td>\n",
       "      <td>Provence</td>\n",
       "      <td>Bandol</td>\n",
       "      <td>NaN</td>\n",
       "      <td>Provence red blend</td>\n",
       "      <td>Domaine de la Bégude</td>\n",
       "      <td>...</td>\n",
       "      <td>0</td>\n",
       "      <td>0</td>\n",
       "      <td>0</td>\n",
       "      <td>0</td>\n",
       "      <td>0</td>\n",
       "      <td>0</td>\n",
       "      <td>0</td>\n",
       "      <td>0</td>\n",
       "      <td>0</td>\n",
       "      <td>0</td>\n",
       "    </tr>\n",
       "  </tbody>\n",
       "</table>\n",
       "<p>5 rows × 45 columns</p>\n",
       "</div>"
      ],
      "text/plain": [
       "  country                                        description  \\\n",
       "0      US  This tremendous 100% varietal wine hails from ...   \n",
       "1   Spain  Ripe aromas of fig, blackberry and cassis are ...   \n",
       "2      US  Mac Watson honors the memory of a wine once ma...   \n",
       "3      US  This spent 20 months in 30% new French oak, an...   \n",
       "4  France  This is the top wine from La Bégude, named aft...   \n",
       "\n",
       "                            designation  points  price        province  \\\n",
       "0                     Martha's Vineyard      96    235      California   \n",
       "1  Carodorum Selección Especial Reserva      96    110  Northern Spain   \n",
       "2         Special Selected Late Harvest      96     90      California   \n",
       "3                               Reserve      96     65          Oregon   \n",
       "4                            La Brûlade      95     66        Provence   \n",
       "\n",
       "            region_1           region_2             variety  \\\n",
       "0        Napa Valley               Napa  Cabernet Sauvignon   \n",
       "1               Toro                NaN       Tinta de Toro   \n",
       "2     Knights Valley             Sonoma     Sauvignon Blanc   \n",
       "3  Willamette Valley  Willamette Valley          Pinot Noir   \n",
       "4             Bandol                NaN  Provence red blend   \n",
       "\n",
       "                    winery  ...  desc_crisp  desc_eucalyptus  desc_pepper  \\\n",
       "0                    Heitz  ...           0                0            0   \n",
       "1  Bodega Carmen Rodríguez  ...           0                0            0   \n",
       "2                 Macauley  ...           0                0            0   \n",
       "3                    Ponzi  ...           0                0            0   \n",
       "4     Domaine de la Bégude  ...           0                0            0   \n",
       "\n",
       "   desc_stone  desc_light  desc_dry  desc_acidic  desc_salt  \\\n",
       "0           0           0         0            0          0   \n",
       "1           0           0         0            0          0   \n",
       "2           0           0         0            0          0   \n",
       "3           0           0         0            0          0   \n",
       "4           0           0         0            0          0   \n",
       "\n",
       "   desc_medium bodied  desc_full bodied  \n",
       "0                   0                 0  \n",
       "1                   0                 0  \n",
       "2                   0                 0  \n",
       "3                   0                 0  \n",
       "4                   0                 0  \n",
       "\n",
       "[5 rows x 45 columns]"
      ]
     },
     "execution_count": 1,
     "metadata": {},
     "output_type": "execute_result"
    }
   ],
   "source": [
    "import numpy as np\n",
    "import pandas as pd\n",
    "import matplotlib.pyplot as plt\n",
    "\n",
    "df = pd.read_csv(\"../data/wine.csv\")\n",
    "df.head()"
   ]
  },
  {
   "cell_type": "markdown",
   "metadata": {},
   "source": [
    "Plot critic score (\"points\") versus price. To do this, use Matplotlib.pyplot's scatter function."
   ]
  },
  {
   "cell_type": "code",
   "execution_count": 2,
   "metadata": {},
   "outputs": [
    {
     "data": {
      "image/png": "[encoded data removed]",
      "text/plain": [
       "<Figure size 432x288 with 1 Axes>"
      ]
     },
     "metadata": {
      "needs_background": "light"
     },
     "output_type": "display_data"
    }
   ],
   "source": [
    "plt.scatter(df[\"points\"], df[\"price\"])\n",
    "plt.xlabel(\"points\")\n",
    "plt.ylabel(\"price\")\n",
    "plt.show()"
   ]
  },
  {
   "cell_type": "markdown",
   "metadata": {},
   "source": [
    "In this example, we are first going to assume a linear regression model of the form:\n",
    "\n",
    "\\begin{equation}\n",
    "\\text{price}_i = a + b *\\text{points}_i + \\epsilon_i\n",
    "\\end{equation}\n",
    "\n",
    "where $\\epsilon_i$ represents an error term and $a$ and $b$ are parameters to estimate."
   ]
  },
  {
   "cell_type": "markdown",
   "metadata": {},
   "source": [
    "We can find the least squares estimates of parameters using Sklearn via the following code:\n",
    "\n",
    "`from sklearn import linear_model\n",
    "reg = linear_model.LinearRegression()\n",
    "X = df[\"points\"]\n",
    "y = df[\"price\"]\n",
    "X = X.iloc[:, ].values.reshape(-1, 1)\n",
    "y = y.iloc[:, ].values.reshape(-1, 1)\n",
    "reg.fit(X, y)\n",
    "a = reg.intercept_[0]\n",
    "b = reg.coef_[0, 0]`\n",
    "\n",
    "Run this code to obtain estimates of the parameters."
   ]
  },
  {
   "cell_type": "code",
   "execution_count": 6,
   "metadata": {},
   "outputs": [
    {
     "name": "stdout",
     "output_type": "stream",
     "text": [
      "a =  -444.88028820525886 b =  5.415778456975186\n"
     ]
    }
   ],
   "source": [
    "from sklearn import linear_model\n",
    "reg = linear_model.LinearRegression()\n",
    "X = df[\"points\"]\n",
    "y = df[\"price\"]\n",
    "X = X.iloc[:, ].values.reshape(-1, 1)\n",
    "y = y.iloc[:, ].values.reshape(-1, 1)\n",
    "reg.fit(X, y)\n",
    "a = reg.intercept_[0]\n",
    "b = reg.coef_[0, 0]\n",
    "print(\"a = \", a, \"b = \", b)"
   ]
  },
  {
   "cell_type": "markdown",
   "metadata": {},
   "source": [
    "What does your model suggest is the average associated increase in wine price for a 1 unit change in points?"
   ]
  },
  {
   "cell_type": "markdown",
   "metadata": {},
   "source": [
    "The parameter $b\\approx 5.42$, so a 1 unit change in points is associated with a $\\$5.42$ change in wine price on average."
   ]
  },
  {
   "cell_type": "markdown",
   "metadata": {},
   "source": [
    "Plot your estimated model regression line on top of the data. To do this use the following steps:\n",
    "\n",
    "1. Create a vector of grid point values between 80 and 100 using numpy's linspace.\n",
    "2. Calculate predicted prices for each point value using your estimates of $a$ and $b$\n",
    "3. Reuse your scatter plot code from above and run `plt.plot(points, price)` after your previous `plt.scatter(..)` command to overlay the regression line on top."
   ]
  },
  {
   "cell_type": "code",
   "execution_count": 7,
   "metadata": {},
   "outputs": [
    {
     "data": {
      "image/png": "[encoded data removed]",
      "text/plain": [
       "<Figure size 432x288 with 1 Axes>"
      ]
     },
     "metadata": {
      "needs_background": "light"
     },
     "output_type": "display_data"
    }
   ],
   "source": [
    "points = np.linspace(80, 100, 100)\n",
    "price = a + b * points\n",
    "\n",
    "plt.scatter(df[\"points\"], df[\"price\"])\n",
    "plt.plot(points, price, 'm')\n",
    "plt.xlabel(\"points\")\n",
    "plt.ylabel(\"price\")\n",
    "plt.show()"
   ]
  },
  {
   "cell_type": "markdown",
   "metadata": {},
   "source": [
    "## Deriving least squares estimates from first principles\n",
    "This section is optional as it is more mathematically involved. If you don't feel like doing this maths, you can skip ahead to the next section."
   ]
  },
  {
   "cell_type": "markdown",
   "metadata": {},
   "source": [
    "We are first going to estimate these parameters using the \"least-squares\" method. This method selects values for $(a,b)$ by minimising the sum of square errors (SSE) between model predictions and observations:\n",
    "\n",
    "\\begin{equation}\n",
    "\\text{SSE} = \\sum_{i=1}^{n} (\\text{price}_i - (a + b *\\text{points}_i))^2\n",
    "\\end{equation}\n",
    "\n",
    "Write a function which takes a single two-element vector argument (\"params\", with \"params[0]=a\" and \"params[1]=b\") as an argument and returns the SSE."
   ]
  },
  {
   "cell_type": "code",
   "execution_count": 5,
   "metadata": {
    "collapsed": true
   },
   "outputs": [],
   "source": [
    "def sse(params):\n",
    "    a = params[0]\n",
    "    b = params[1]\n",
    "    errors = df[\"price\"] - (a + b * df[\"points\"])\n",
    "    errors_sq = errors**2\n",
    "    return np.sum(errors_sq)"
   ]
  },
  {
   "cell_type": "markdown",
   "metadata": {},
   "source": [
    "We are now going to use Scipy's optimiser to find the parameters which minimise the SSE. To do so use:\n",
    "\n",
    "`import scipy.optimize as optimize`\n",
    "\n",
    "then use the `optimize.minimize` function to find them. Note, one of the function arguments is an initial guess of the parameter values. For this choose: $a=-400$ and $b=4$. Note also that the estimates are given as a dictionary and the \"x\" key corresponds to the parameter values.\n",
    "\n",
    "Confirm that these estimates are the same as were obtained via the sklearn approach."
   ]
  },
  {
   "cell_type": "code",
   "execution_count": 6,
   "metadata": {},
   "outputs": [
    {
     "data": {
      "text/plain": [
       "array([-444.87852723,    5.41575859])"
      ]
     },
     "execution_count": 6,
     "metadata": {},
     "output_type": "execute_result"
    }
   ],
   "source": [
    "import scipy.optimize as optimize\n",
    "initial_guess = [-400, 4]\n",
    "result = optimize.minimize(sse, initial_guess)\n",
    "result[\"x\"]"
   ]
  },
  {
   "cell_type": "markdown",
   "metadata": {},
   "source": [
    "We are now going to use the sum of absolute errors (SAE) as our distance function and use it to determine new estimates:\n",
    "\n",
    "\\begin{equation}\n",
    "\\text{SAE} = \\sum_{i=1}^{n} |\\text{price}_i - (a + b *\\text{points}_i)|\n",
    "\\end{equation}\n",
    "\n",
    "Write a function which returns the SAE. Then use it as an input to Scipy's optimiser to find the new parameter estimates. Compare the regression line from these estimates with the least-squares line."
   ]
  },
  {
   "cell_type": "code",
   "execution_count": 7,
   "metadata": {},
   "outputs": [
    {
     "name": "stdout",
     "output_type": "stream",
     "text": [
      "new estimates =  -276.8698318500802 3.4442163867462745\n"
     ]
    }
   ],
   "source": [
    "def sae(params):\n",
    "    a = params[0]\n",
    "    b = params[1]\n",
    "    errors = df[\"price\"] - (a + b * df[\"points\"])\n",
    "    return np.sum(np.abs(errors))\n",
    "\n",
    "import scipy.optimize as optimize\n",
    "initial_guess = [-400, 4]\n",
    "result = optimize.minimize(sae, initial_guess)\n",
    "params = result[\"x\"]\n",
    "a1 = params[0]\n",
    "b1 = params[1]\n",
    "\n",
    "print(\"new estimates = \", a1, b1)"
   ]
  },
  {
   "cell_type": "code",
   "execution_count": 8,
   "metadata": {},
   "outputs": [
    {
     "data": {
      "image/png": "[encoded data removed]",
      "text/plain": [
       "<Figure size 432x288 with 1 Axes>"
      ]
     },
     "metadata": {
      "needs_background": "light"
     },
     "output_type": "display_data"
    }
   ],
   "source": [
    "points = np.linspace(80, 100, 100)\n",
    "price = a + b * points\n",
    "price1 = a1 + b1 * points\n",
    "\n",
    "plt.scatter(df[\"points\"], df[\"price\"], label=\"data\")\n",
    "plt.plot(points, price, 'm', label=\"least squares\")\n",
    "plt.plot(points, price1, 'g', label=\"SAE\")\n",
    "plt.legend()\n",
    "plt.xlabel(\"points\")\n",
    "plt.ylabel(\"price\")\n",
    "plt.show()"
   ]
  },
  {
   "cell_type": "markdown",
   "metadata": {},
   "source": [
    "Compare the estimates of the $b$ parameter from the least-squares and absolute deviation loss functions. Why are they different?"
   ]
  },
  {
   "cell_type": "markdown",
   "metadata": {},
   "source": [
    "The least squares estimate was $b=5.42$ whereas the absolute deviation loss is $b=3.44$. The difference is because the SAE loss is much less sensitive to extreme values than the least squares line."
   ]
  },
  {
   "cell_type": "markdown",
   "metadata": {},
   "source": [
    "## Checking the model's assumptions\n",
    "\n",
    "In this section, we are going to run some diagnostic checks on our regression model. The first of these is going to check the linearity assumption.\n",
    "\n",
    "To do this, you will need to extract the residuals from the model. These are defined as the difference between the model predictions and the actual values:\n",
    "\n",
    "\\begin{equation}\n",
    "\\text{residual}_i = \\text{price}_i - (a + b * \\text{points}_i)\n",
    "\\end{equation}\n",
    "\n",
    "where $a$ and $b$ are the estimated parameters.\n",
    "\n",
    "First, calculate the residuals for the least-squares regression model. Then make a scatter plot of the residuals versus points. What does the plot indicate about this assumption?"
   ]
  },
  {
   "cell_type": "code",
   "execution_count": 9,
   "metadata": {},
   "outputs": [
    {
     "data": {
      "image/png": "[encoded data removed]",
      "text/plain": [
       "<Figure size 432x288 with 1 Axes>"
      ]
     },
     "metadata": {
      "needs_background": "light"
     },
     "output_type": "display_data"
    }
   ],
   "source": [
    "residuals = df[\"price\"] - (a + b * df[\"points\"])\n",
    "\n",
    "plt.scatter(df[\"points\"], residuals)\n",
    "plt.xlabel('points')\n",
    "plt.ylabel('residuals')\n",
    "plt.show()"
   ]
  },
  {
   "cell_type": "markdown",
   "metadata": {},
   "source": [
    "It appears that the model fit is relatively poor at low and high points values."
   ]
  },
  {
   "cell_type": "markdown",
   "metadata": {},
   "source": [
    "In our next diagnostic, we are going to check the assumption of the homogeneity of residual variance. To do this, we calculate the squared residuals then plot these versus the points."
   ]
  },
  {
   "cell_type": "code",
   "execution_count": 10,
   "metadata": {},
   "outputs": [
    {
     "data": {
      "image/png": "[encoded data removed]",
      "text/plain": [
       "<Figure size 432x288 with 1 Axes>"
      ]
     },
     "metadata": {
      "needs_background": "light"
     },
     "output_type": "display_data"
    }
   ],
   "source": [
    "residuals_sq = residuals**2\n",
    "plt.scatter(df[\"points\"], residuals**2)\n",
    "plt.xlabel('points')\n",
    "plt.ylabel('residuals^2')\n",
    "plt.show()"
   ]
  },
  {
   "cell_type": "markdown",
   "metadata": {},
   "source": [
    "What do you conclude about the validity of the assumptions behind the linear regression model from your previous checks?"
   ]
  },
  {
   "cell_type": "markdown",
   "metadata": {},
   "source": [
    "The model is not fit for purpose: likely the linearity assumption is violated and the homogeneity of residual variance is also violated."
   ]
  },
  {
   "cell_type": "markdown",
   "metadata": {},
   "source": [
    "An alternative model takes the logarithm of both the points and the price and assumptions a linear relationship between these:\n",
    "\n",
    "\\begin{equation}\n",
    "\\log\\text{price}_i = a + b * \\log\\text{points}_i + \\epsilon_i\n",
    "\\end{equation}\n",
    "\n",
    "By adapting the sklearn code from above, estimate this regression model and plot your fitted regression line."
   ]
  },
  {
   "cell_type": "code",
   "execution_count": 11,
   "metadata": {},
   "outputs": [
    {
     "name": "stdout",
     "output_type": "stream",
     "text": [
      "-47.60788717322791 11.360071239218486\n"
     ]
    }
   ],
   "source": [
    "from sklearn import linear_model\n",
    "reg = linear_model.LinearRegression()\n",
    "X = np.log(df[\"points\"])\n",
    "y = np.log(df[\"price\"])\n",
    "X = X.iloc[:, ].values.reshape(-1, 1)\n",
    "y = y.iloc[:, ].values.reshape(-1, 1)\n",
    "reg.fit(X, y)\n",
    "a = reg.intercept_[0]\n",
    "b = reg.coef_[0, 0]\n",
    "print(a, b)"
   ]
  },
  {
   "cell_type": "code",
   "execution_count": 12,
   "metadata": {},
   "outputs": [
    {
     "data": {
      "image/png": "[encoded data removed]",
      "text/plain": [
       "<Figure size 432x288 with 1 Axes>"
      ]
     },
     "metadata": {
      "needs_background": "light"
     },
     "output_type": "display_data"
    }
   ],
   "source": [
    "points = np.log(np.linspace(80, 100, 100))\n",
    "price = a + b * points\n",
    "\n",
    "plt.scatter(np.log(df[\"points\"]), np.log(df[\"price\"]))\n",
    "plt.plot(points, price, 'm')\n",
    "plt.xlabel(\"log points\")\n",
    "plt.ylabel(\"log price\")\n",
    "plt.show()"
   ]
  },
  {
   "cell_type": "markdown",
   "metadata": {},
   "source": [
    "Now perform the same diagnostic checks on this new model as we previously performed. How does this model perform?"
   ]
  },
  {
   "cell_type": "markdown",
   "metadata": {},
   "source": [
    "First we plot the residuals vs the log points: there is no obvious pattern here."
   ]
  },
  {
   "cell_type": "code",
   "execution_count": 13,
   "metadata": {},
   "outputs": [
    {
     "data": {
      "image/png": "[encoded data removed]",
      "text/plain": [
       "<Figure size 432x288 with 1 Axes>"
      ]
     },
     "metadata": {
      "needs_background": "light"
     },
     "output_type": "display_data"
    }
   ],
   "source": [
    "residuals = np.log(df[\"price\"]) - (a + b * np.log(df[\"points\"]))\n",
    "\n",
    "plt.scatter(np.log(df[\"points\"]), residuals)\n",
    "plt.xlabel('log points')\n",
    "plt.ylabel('residuals')\n",
    "plt.show()"
   ]
  },
  {
   "cell_type": "markdown",
   "metadata": {},
   "source": [
    "Next we plot the square residuals: there is perhaps still lower variance for wines with low points; but the situation is significantly improved from before."
   ]
  },
  {
   "cell_type": "code",
   "execution_count": 14,
   "metadata": {},
   "outputs": [
    {
     "data": {
      "image/png": "[encoded data removed]",
      "text/plain": [
       "<Figure size 432x288 with 1 Axes>"
      ]
     },
     "metadata": {
      "needs_background": "light"
     },
     "output_type": "display_data"
    }
   ],
   "source": [
    "residuals_sq = residuals**2\n",
    "\n",
    "plt.scatter(np.log(df[\"points\"]), residuals_sq)\n",
    "plt.xlabel('log points')\n",
    "plt.ylabel('residuals^2')\n",
    "plt.show()"
   ]
  },
  {
   "cell_type": "markdown",
   "metadata": {},
   "source": [
    "# Further regression interpretation"
   ]
  },
  {
   "cell_type": "markdown",
   "metadata": {},
   "source": [
    "Using the parameter estimates from fitting the log-log model, determine which countries tend to have wine that is the best and worst value. To do this, remove those countries with fewer than 100 observations."
   ]
  },
  {
   "cell_type": "markdown",
   "metadata": {},
   "source": [
    "Using our basic model, a wine is overvalued if its price is higher than the regression line; undervalued if it is below it. So, our residuals effectively measure the degree to which a wine is overvalued.\n",
    "\n",
    "We first add our residuals as a column in the dataframe. We then throw away any countries with fewer than 100 observations. By this approach, it appears that Italian wines are the most overpriced and Austrian are the best bargains."
   ]
  },
  {
   "cell_type": "code",
   "execution_count": 82,
   "metadata": {},
   "outputs": [
    {
     "data": {
      "text/html": [
       "<div>\n",
       "<style scoped>\n",
       "    .dataframe tbody tr th:only-of-type {\n",
       "        vertical-align: middle;\n",
       "    }\n",
       "\n",
       "    .dataframe tbody tr th {\n",
       "        vertical-align: top;\n",
       "    }\n",
       "\n",
       "    .dataframe thead th {\n",
       "        text-align: right;\n",
       "    }\n",
       "</style>\n",
       "<table border=\"1\" class=\"dataframe\">\n",
       "  <thead>\n",
       "    <tr style=\"text-align: right;\">\n",
       "      <th></th>\n",
       "      <th>residuals</th>\n",
       "    </tr>\n",
       "    <tr>\n",
       "      <th>country</th>\n",
       "      <th></th>\n",
       "    </tr>\n",
       "  </thead>\n",
       "  <tbody>\n",
       "    <tr>\n",
       "      <th>Italy</th>\n",
       "      <td>0.198514</td>\n",
       "    </tr>\n",
       "    <tr>\n",
       "      <th>US</th>\n",
       "      <td>0.104225</td>\n",
       "    </tr>\n",
       "    <tr>\n",
       "      <th>France</th>\n",
       "      <td>-0.068230</td>\n",
       "    </tr>\n",
       "    <tr>\n",
       "      <th>Argentina</th>\n",
       "      <td>-0.110301</td>\n",
       "    </tr>\n",
       "    <tr>\n",
       "      <th>Spain</th>\n",
       "      <td>-0.117760</td>\n",
       "    </tr>\n",
       "    <tr>\n",
       "      <th>Germany</th>\n",
       "      <td>-0.203205</td>\n",
       "    </tr>\n",
       "    <tr>\n",
       "      <th>Chile</th>\n",
       "      <td>-0.207292</td>\n",
       "    </tr>\n",
       "    <tr>\n",
       "      <th>Portugal</th>\n",
       "      <td>-0.442490</td>\n",
       "    </tr>\n",
       "    <tr>\n",
       "      <th>Austria</th>\n",
       "      <td>-0.613188</td>\n",
       "    </tr>\n",
       "  </tbody>\n",
       "</table>\n",
       "</div>"
      ],
      "text/plain": [
       "           residuals\n",
       "country             \n",
       "Italy       0.198514\n",
       "US          0.104225\n",
       "France     -0.068230\n",
       "Argentina  -0.110301\n",
       "Spain      -0.117760\n",
       "Germany    -0.203205\n",
       "Chile      -0.207292\n",
       "Portugal   -0.442490\n",
       "Austria    -0.613188"
      ]
     },
     "execution_count": 82,
     "metadata": {},
     "output_type": "execute_result"
    }
   ],
   "source": [
    "df[\"residuals\"] = residuals\n",
    "\n",
    "# remove countries with fewer than 100 obs\n",
    "df_small = df[[\"country\", \"residuals\"]]\n",
    "df_keep = df_small.groupby(['country']).count().reset_index()\n",
    "df_keep[\"keep\"] = df_keep[\"residuals\"] > 100\n",
    "df_keep = df_keep[df_keep[\"keep\"]]\n",
    "df_small = df_small[df_small[\"country\"].isin(df_keep[\"country\"])]\n",
    "\n",
    "# look at average residual values for each country\n",
    "df_small.groupby(\"country\").mean().sort_values(by=\"residuals\", ascending=False)"
   ]
  },
  {
   "cell_type": "markdown",
   "metadata": {},
   "source": [
    "## Uncertainty through bootstrapping\n",
    "\n",
    "In this next section of the problems, we are going to determine an estimate of uncertainty in our least squares estimates of the log-log model:\n",
    "\n",
    "\\begin{equation}\n",
    "\\log\\text{price}_i = a + b * \\log\\text{points}_i + \\epsilon_i.\n",
    "\\end{equation}\n",
    "\n",
    "To do this, we are going to use boostrap sampling. In this, we randomly sample the rows of our dataset, with replacement, and re-estimate the regression model on each of these samples."
   ]
  },
  {
   "cell_type": "markdown",
   "metadata": {},
   "source": [
    "Write a function which draws a new bootstrap sample and uses the sklearn functionality to fit a least-squares regression to that dataset. Your function should return estimates of both $a$ and $b$."
   ]
  },
  {
   "cell_type": "code",
   "execution_count": 15,
   "metadata": {},
   "outputs": [],
   "source": [
    "df[\"log price\"] = np.log(df[\"price\"])\n",
    "df[\"log points\"] = np.log(df[\"points\"])\n",
    "\n",
    "def fit_regression(df):\n",
    "    reg = linear_model.LinearRegression()\n",
    "    X = df[\"log points\"]\n",
    "    y = df[\"log price\"]\n",
    "    X = X.iloc[:, ].values.reshape(-1, 1)\n",
    "    y = y.iloc[:, ].values.reshape(-1, 1)\n",
    "    reg.fit(X, y)\n",
    "    a = reg.intercept_[0]\n",
    "    b = reg.coef_[0, 0]\n",
    "    return a, b\n",
    "\n",
    "def bootstrap_and_fit(df):\n",
    "    df_bootstrap = df.sample(len(df), replace=True)\n",
    "    a, b = fit_regression(df_bootstrap)\n",
    "    return a, b"
   ]
  },
  {
   "cell_type": "markdown",
   "metadata": {},
   "source": [
    "Now use your function to obtain 3 bootstrap estimates of the parameters. Plot the regression lines for these three cases."
   ]
  },
  {
   "cell_type": "code",
   "execution_count": 16,
   "metadata": {},
   "outputs": [
    {
     "data": {
      "image/png": "[encoded data removed]",
      "text/plain": [
       "<Figure size 432x288 with 1 Axes>"
      ]
     },
     "metadata": {
      "needs_background": "light"
     },
     "output_type": "display_data"
    }
   ],
   "source": [
    "# estimate parameters\n",
    "a = []\n",
    "b = []\n",
    "nreplicates = 3\n",
    "for i in range(nreplicates):\n",
    "    a_temp, b_temp = bootstrap_and_fit(df)\n",
    "    a.append(a_temp)\n",
    "    b.append(b_temp)\n",
    "\n",
    "# obtain regression lines\n",
    "log_points = np.log(np.linspace(80, 100, 100))\n",
    "log_price1 = a[0] + b[0] * log_points\n",
    "log_price2 = a[1] + b[1] * log_points\n",
    "log_price3 = a[2] + b[2] * log_points\n",
    "\n",
    "plt.scatter(df[\"log points\"], df[\"log price\"])\n",
    "plt.plot(log_points, log_price1, 'b')\n",
    "plt.plot(log_points, log_price2, 'b')\n",
    "plt.plot(log_points, log_price3, 'b')\n",
    "plt.xlabel(\"log points\")\n",
    "plt.ylabel(\"log price\")\n",
    "plt.show()"
   ]
  },
  {
   "cell_type": "markdown",
   "metadata": {},
   "source": [
    "Now perform 1000 bootstrapped estimates and plot the distribution of $b$ estimates as a histogram."
   ]
  },
  {
   "cell_type": "code",
   "execution_count": 17,
   "metadata": {
    "collapsed": true
   },
   "outputs": [],
   "source": [
    "a = []\n",
    "b = []\n",
    "nreplicates = 1000\n",
    "for i in range(nreplicates):\n",
    "    a_temp, b_temp = bootstrap_and_fit(df)\n",
    "    a.append(a_temp)\n",
    "    b.append(b_temp)"
   ]
  },
  {
   "cell_type": "code",
   "execution_count": 18,
   "metadata": {},
   "outputs": [
    {
     "data": {
      "image/png": "[encoded data removed]",
      "text/plain": [
       "<Figure size 432x288 with 1 Axes>"
      ]
     },
     "metadata": {
      "needs_background": "light"
     },
     "output_type": "display_data"
    }
   ],
   "source": [
    "plt.hist(b)\n",
    "plt.xlabel('b')\n",
    "plt.show()"
   ]
  },
  {
   "cell_type": "markdown",
   "metadata": {},
   "source": [
    "What are your 95% uncertainty bounds on the parameter using these boostrapped estimates? Hint: use numpy's quantile function."
   ]
  },
  {
   "cell_type": "code",
   "execution_count": 19,
   "metadata": {},
   "outputs": [
    {
     "name": "stdout",
     "output_type": "stream",
     "text": [
      "95% uncertainty range:  11.033356752683364 - 11.723133559267094\n"
     ]
    }
   ],
   "source": [
    "lower = np.quantile(b, 0.025)\n",
    "upper = np.quantile(b, 0.975)\n",
    "print(\"95% uncertainty range: \", lower, \"-\", upper)"
   ]
  },
  {
   "cell_type": "markdown",
   "metadata": {},
   "source": [
    "## Causality and regression"
   ]
  },
  {
   "cell_type": "markdown",
   "metadata": {},
   "source": [
    "What do the preceding analyses suggest is the effect of increasing wine quality (as measured by points) on the price that it sells for?"
   ]
  },
  {
   "cell_type": "markdown",
   "metadata": {},
   "source": [
    "We have to be careful not to assign a direct causal interpretation to these data. However, that said, there is a plausible mechanism here: wine being of better quality should fetch a higher price. So the analyses are at least not contradictory to this hypothesis.\n",
    "\n",
    "In this situation, what sort of data would be need to collect to determine how wine quality affects its price?"
   ]
  },
  {
   "cell_type": "markdown",
   "metadata": {},
   "source": [
    "We could design an experiment:\n",
    "\n",
    "- pick wines that have already been priced\n",
    "- remove their packaging to remove visual biases\n",
    "- get critics to rate each wine\n",
    "- re-perform the sort of regressions we have done in this problem sheet"
   ]
  }
 ],
 "metadata": {
  "kernelspec": {
   "display_name": "Python 3",
   "language": "python",
   "name": "python3"
  },
  "language_info": {
   "codemirror_mode": {
    "name": "ipython",
    "version": 3
   },
   "file_extension": ".py",
   "mimetype": "text/x-python",
   "name": "python",
   "nbconvert_exporter": "python",
   "pygments_lexer": "ipython3",
   "version": "3.7.7"
  }
 },
 "nbformat": 4,
 "nbformat_minor": 2
}
