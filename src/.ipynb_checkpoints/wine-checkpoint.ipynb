{
 "cells": [
  {
   "cell_type": "markdown",
   "metadata": {},
   "source": [
    "# Analysing determinants of wine price using wine review data"
   ]
  },
  {
   "cell_type": "markdown",
   "metadata": {},
   "source": [
    "In this example, we are going to use a subset of a large [dataset of wine reviews](https://www.kaggle.com/zynicide/wine-reviews) to examine the relationship between critic-ascribed quality (\"points\") and the price of wines.\n",
    "\n",
    "The analysis is going to be carried out using regression."
   ]
  },
  {
   "cell_type": "markdown",
   "metadata": {},
   "source": [
    "Using Pandas, import the data and examine the first few rows of it."
   ]
  },
  {
   "cell_type": "code",
   "execution_count": 8,
   "metadata": {},
   "outputs": [
    {
     "data": {
      "text/html": [
       "<div>\n",
       "<style scoped>\n",
       "    .dataframe tbody tr th:only-of-type {\n",
       "        vertical-align: middle;\n",
       "    }\n",
       "\n",
       "    .dataframe tbody tr th {\n",
       "        vertical-align: top;\n",
       "    }\n",
       "\n",
       "    .dataframe thead th {\n",
       "        text-align: right;\n",
       "    }\n",
       "</style>\n",
       "<table border=\"1\" class=\"dataframe\">\n",
       "  <thead>\n",
       "    <tr style=\"text-align: right;\">\n",
       "      <th></th>\n",
       "      <th>country</th>\n",
       "      <th>description</th>\n",
       "      <th>designation</th>\n",
       "      <th>points</th>\n",
       "      <th>price</th>\n",
       "      <th>province</th>\n",
       "      <th>region_1</th>\n",
       "      <th>region_2</th>\n",
       "      <th>variety</th>\n",
       "      <th>winery</th>\n",
       "      <th>...</th>\n",
       "      <th>desc_crisp</th>\n",
       "      <th>desc_eucalyptus</th>\n",
       "      <th>desc_pepper</th>\n",
       "      <th>desc_stone</th>\n",
       "      <th>desc_light</th>\n",
       "      <th>desc_dry</th>\n",
       "      <th>desc_acidic</th>\n",
       "      <th>desc_salt</th>\n",
       "      <th>desc_medium bodied</th>\n",
       "      <th>desc_full bodied</th>\n",
       "    </tr>\n",
       "  </thead>\n",
       "  <tbody>\n",
       "    <tr>\n",
       "      <th>0</th>\n",
       "      <td>US</td>\n",
       "      <td>This tremendous 100% varietal wine hails from ...</td>\n",
       "      <td>Martha's Vineyard</td>\n",
       "      <td>96</td>\n",
       "      <td>235</td>\n",
       "      <td>California</td>\n",
       "      <td>Napa Valley</td>\n",
       "      <td>Napa</td>\n",
       "      <td>Cabernet Sauvignon</td>\n",
       "      <td>Heitz</td>\n",
       "      <td>...</td>\n",
       "      <td>0</td>\n",
       "      <td>0</td>\n",
       "      <td>0</td>\n",
       "      <td>0</td>\n",
       "      <td>0</td>\n",
       "      <td>0</td>\n",
       "      <td>0</td>\n",
       "      <td>0</td>\n",
       "      <td>0</td>\n",
       "      <td>0</td>\n",
       "    </tr>\n",
       "    <tr>\n",
       "      <th>1</th>\n",
       "      <td>Spain</td>\n",
       "      <td>Ripe aromas of fig, blackberry and cassis are ...</td>\n",
       "      <td>Carodorum Selección Especial Reserva</td>\n",
       "      <td>96</td>\n",
       "      <td>110</td>\n",
       "      <td>Northern Spain</td>\n",
       "      <td>Toro</td>\n",
       "      <td>NaN</td>\n",
       "      <td>Tinta de Toro</td>\n",
       "      <td>Bodega Carmen Rodríguez</td>\n",
       "      <td>...</td>\n",
       "      <td>0</td>\n",
       "      <td>0</td>\n",
       "      <td>0</td>\n",
       "      <td>0</td>\n",
       "      <td>0</td>\n",
       "      <td>0</td>\n",
       "      <td>0</td>\n",
       "      <td>0</td>\n",
       "      <td>0</td>\n",
       "      <td>0</td>\n",
       "    </tr>\n",
       "    <tr>\n",
       "      <th>2</th>\n",
       "      <td>US</td>\n",
       "      <td>Mac Watson honors the memory of a wine once ma...</td>\n",
       "      <td>Special Selected Late Harvest</td>\n",
       "      <td>96</td>\n",
       "      <td>90</td>\n",
       "      <td>California</td>\n",
       "      <td>Knights Valley</td>\n",
       "      <td>Sonoma</td>\n",
       "      <td>Sauvignon Blanc</td>\n",
       "      <td>Macauley</td>\n",
       "      <td>...</td>\n",
       "      <td>0</td>\n",
       "      <td>0</td>\n",
       "      <td>0</td>\n",
       "      <td>0</td>\n",
       "      <td>0</td>\n",
       "      <td>0</td>\n",
       "      <td>0</td>\n",
       "      <td>0</td>\n",
       "      <td>0</td>\n",
       "      <td>0</td>\n",
       "    </tr>\n",
       "    <tr>\n",
       "      <th>3</th>\n",
       "      <td>US</td>\n",
       "      <td>This spent 20 months in 30% new French oak, an...</td>\n",
       "      <td>Reserve</td>\n",
       "      <td>96</td>\n",
       "      <td>65</td>\n",
       "      <td>Oregon</td>\n",
       "      <td>Willamette Valley</td>\n",
       "      <td>Willamette Valley</td>\n",
       "      <td>Pinot Noir</td>\n",
       "      <td>Ponzi</td>\n",
       "      <td>...</td>\n",
       "      <td>0</td>\n",
       "      <td>0</td>\n",
       "      <td>0</td>\n",
       "      <td>0</td>\n",
       "      <td>0</td>\n",
       "      <td>0</td>\n",
       "      <td>0</td>\n",
       "      <td>0</td>\n",
       "      <td>0</td>\n",
       "      <td>0</td>\n",
       "    </tr>\n",
       "    <tr>\n",
       "      <th>4</th>\n",
       "      <td>France</td>\n",
       "      <td>This is the top wine from La Bégude, named aft...</td>\n",
       "      <td>La Brûlade</td>\n",
       "      <td>95</td>\n",
       "      <td>66</td>\n",
       "      <td>Provence</td>\n",
       "      <td>Bandol</td>\n",
       "      <td>NaN</td>\n",
       "      <td>Provence red blend</td>\n",
       "      <td>Domaine de la Bégude</td>\n",
       "      <td>...</td>\n",
       "      <td>0</td>\n",
       "      <td>0</td>\n",
       "      <td>0</td>\n",
       "      <td>0</td>\n",
       "      <td>0</td>\n",
       "      <td>0</td>\n",
       "      <td>0</td>\n",
       "      <td>0</td>\n",
       "      <td>0</td>\n",
       "      <td>0</td>\n",
       "    </tr>\n",
       "  </tbody>\n",
       "</table>\n",
       "<p>5 rows × 45 columns</p>\n",
       "</div>"
      ],
      "text/plain": [
       "  country                                        description  \\\n",
       "0      US  This tremendous 100% varietal wine hails from ...   \n",
       "1   Spain  Ripe aromas of fig, blackberry and cassis are ...   \n",
       "2      US  Mac Watson honors the memory of a wine once ma...   \n",
       "3      US  This spent 20 months in 30% new French oak, an...   \n",
       "4  France  This is the top wine from La Bégude, named aft...   \n",
       "\n",
       "                            designation  points  price        province  \\\n",
       "0                     Martha's Vineyard      96    235      California   \n",
       "1  Carodorum Selección Especial Reserva      96    110  Northern Spain   \n",
       "2         Special Selected Late Harvest      96     90      California   \n",
       "3                               Reserve      96     65          Oregon   \n",
       "4                            La Brûlade      95     66        Provence   \n",
       "\n",
       "            region_1           region_2             variety  \\\n",
       "0        Napa Valley               Napa  Cabernet Sauvignon   \n",
       "1               Toro                NaN       Tinta de Toro   \n",
       "2     Knights Valley             Sonoma     Sauvignon Blanc   \n",
       "3  Willamette Valley  Willamette Valley          Pinot Noir   \n",
       "4             Bandol                NaN  Provence red blend   \n",
       "\n",
       "                    winery  ...  desc_crisp  desc_eucalyptus  desc_pepper  \\\n",
       "0                    Heitz  ...           0                0            0   \n",
       "1  Bodega Carmen Rodríguez  ...           0                0            0   \n",
       "2                 Macauley  ...           0                0            0   \n",
       "3                    Ponzi  ...           0                0            0   \n",
       "4     Domaine de la Bégude  ...           0                0            0   \n",
       "\n",
       "   desc_stone  desc_light  desc_dry  desc_acidic  desc_salt  \\\n",
       "0           0           0         0            0          0   \n",
       "1           0           0         0            0          0   \n",
       "2           0           0         0            0          0   \n",
       "3           0           0         0            0          0   \n",
       "4           0           0         0            0          0   \n",
       "\n",
       "   desc_medium bodied  desc_full bodied  \n",
       "0                   0                 0  \n",
       "1                   0                 0  \n",
       "2                   0                 0  \n",
       "3                   0                 0  \n",
       "4                   0                 0  \n",
       "\n",
       "[5 rows x 45 columns]"
      ]
     },
     "execution_count": 8,
     "metadata": {},
     "output_type": "execute_result"
    }
   ],
   "source": [
    "import numpy as np\n",
    "import pandas as pd\n",
    "import matplotlib.pyplot as plt\n",
    "\n",
    "df = pd.read_csv(\"../data/wine.csv\")\n",
    "df.head()"
   ]
  },
  {
   "cell_type": "markdown",
   "metadata": {},
   "source": [
    "Plot critic score (\"points\") versus price. To do this, use Matplotlib.pyplot's scatter function."
   ]
  },
  {
   "cell_type": "code",
   "execution_count": 10,
   "metadata": {},
   "outputs": [
    {
     "data": {
      "image/png": "[encoded data removed]",
      "text/plain": [
       "<Figure size 432x288 with 1 Axes>"
      ]
     },
     "metadata": {
      "needs_background": "light"
     },
     "output_type": "display_data"
    }
   ],
   "source": [
    "plt.scatter(df[\"points\"], df[\"price\"])\n",
    "plt.xlabel(\"points\")\n",
    "plt.ylabel(\"price\")\n",
    "plt.show()"
   ]
  },
  {
   "cell_type": "markdown",
   "metadata": {},
   "source": [
    "In this example, we are first going to assume a linear regression model of the form:\n",
    "\n",
    "\\begin{equation}\n",
    "\\text{price}_i = a + b *\\text{points}_i + \\epsilon_i\n",
    "\\end{equation}\n",
    "\n",
    "where $\\epsilon_i$ represents an error term and $a$ and $b$ are parameters to estimate."
   ]
  },
  {
   "cell_type": "markdown",
   "metadata": {},
   "source": [
    "We can find the least squares estimates of parameters using Sklearn via the following code:\n",
    "\n",
    "`from sklearn import linear_model\n",
    "reg = linear_model.LinearRegression()\n",
    "X = df[\"points\"]\n",
    "y = df[\"price\"]\n",
    "X = X.iloc[:, ].values.reshape(-1, 1)\n",
    "y = y.iloc[:, ].values.reshape(-1, 1)\n",
    "reg.fit(X, y)\n",
    "a = reg.intercept_[0]\n",
    "b = reg.coef_[0, 0]`\n",
    "\n",
    "Run this code to obtain estimates of the parameters."
   ]
  },
  {
   "cell_type": "code",
   "execution_count": 62,
   "metadata": {},
   "outputs": [
    {
     "name": "stdout",
     "output_type": "stream",
     "text": [
      "-444.88028820525886 5.415778456975186\n"
     ]
    }
   ],
   "source": [
    "from sklearn import linear_model\n",
    "reg = linear_model.LinearRegression()\n",
    "X = df[\"points\"]\n",
    "y = df[\"price\"]\n",
    "X = X.iloc[:, ].values.reshape(-1, 1)\n",
    "y = y.iloc[:, ].values.reshape(-1, 1)\n",
    "reg.fit(X, y)\n",
    "a = reg.intercept_[0]\n",
    "b = reg.coef_[0, 0]"
   ]
  },
  {
   "cell_type": "markdown",
   "metadata": {},
   "source": [
    "Plot your estimated model regression line on top of the data. To do this use the following steps:\n",
    "\n",
    "1. Create a vector of grid point values between 80 and 100 using numpy's linspace.\n",
    "2. Calculate predicted prices for each point value using your estimates of $a$ and $b$\n",
    "3. Reuse your scatter plot code from above and run `plt.plot(points, price)` after your previous `plt.scatter(..)` command to overlay the regression line on top."
   ]
  },
  {
   "cell_type": "code",
   "execution_count": 67,
   "metadata": {},
   "outputs": [
    {
     "data": {
      "image/png": "[encoded data removed]",
      "text/plain": [
       "<Figure size 432x288 with 1 Axes>"
      ]
     },
     "metadata": {
      "needs_background": "light"
     },
     "output_type": "display_data"
    }
   ],
   "source": [
    "estimates = result[\"x\"]\n",
    "a = estimates[0]\n",
    "b = estimates[1]\n",
    "points = np.linspace(80, 100, 100)\n",
    "price = a + b * points\n",
    "\n",
    "plt.scatter(df[\"points\"], df[\"price\"])\n",
    "plt.plot(points, price, 'm')\n",
    "plt.xlabel(\"points\")\n",
    "plt.ylabel(\"price\")\n",
    "plt.show()"
   ]
  },
  {
   "cell_type": "markdown",
   "metadata": {},
   "source": [
    "## Deriving least squares estimates from first principles\n",
    "This section is optional as it is more mathematically involved. If you don't feel like doing this maths, you can skip ahead to the next section."
   ]
  },
  {
   "cell_type": "markdown",
   "metadata": {},
   "source": [
    "We are first going to estimate these parameters using the \"least-squares\" method. This method selects values for $(a,b)$ by minimising the sum of square errors (SSE) between model predictions and observations:\n",
    "\n",
    "\\begin{equation}\n",
    "\\text{SSE} = \\sum_{i=1}^{n} (\\text{price}_i - (a + b *\\text{points}_i))^2\n",
    "\\end{equation}\n",
    "\n",
    "Write a function which takes a single two-element vector argument (\"params\", with \"params[0]=a\" and \"params[1]=b\") as an argument and returns the SSE."
   ]
  },
  {
   "cell_type": "code",
   "execution_count": 28,
   "metadata": {},
   "outputs": [],
   "source": [
    "def sse(params):\n",
    "    a = params[0]\n",
    "    b = params[1]\n",
    "    errors = df[\"price\"] - (a + b * df[\"points\"])\n",
    "    errors_sq = errors**2\n",
    "    return np.sum(errors_sq)"
   ]
  },
  {
   "cell_type": "markdown",
   "metadata": {},
   "source": [
    "We are now going to use Scipy's optimiser to find the parameters which minimise the SSE. To do so use:\n",
    "\n",
    "`import scipy.optimize as optimize`\n",
    "\n",
    "then use the `optimize.minimize` function to find them. Note, one of the function arguments is an initial guess of the parameter values. For this choose: $a=-400$ and $b=4$. Note also that the estimates are given as a dictionary and the \"x\" key corresponds to the parameter values.\n",
    "\n",
    "Confirm that these estimates are the same as were obtained via the sklearn approach."
   ]
  },
  {
   "cell_type": "code",
   "execution_count": 33,
   "metadata": {},
   "outputs": [
    {
     "data": {
      "text/plain": [
       "array([-444.87852723,    5.41575859])"
      ]
     },
     "execution_count": 33,
     "metadata": {},
     "output_type": "execute_result"
    }
   ],
   "source": [
    "import scipy.optimize as optimize\n",
    "initial_guess = [-400, 4]\n",
    "result = optimize.minimize(sse, initial_guess)\n",
    "result[\"x\"]"
   ]
  },
  {
   "cell_type": "markdown",
   "metadata": {},
   "source": [
    "We are now going to use the sum of absolute errors (SAE) as our distance function and use it to determine new estimates:\n",
    "\n",
    "\\begin{equation}\n",
    "\\text{SAE} = \\sum_{i=1}^{n} |\\text{price}_i - (a + b *\\text{points}_i)|\n",
    "\\end{equation}\n",
    "\n",
    "Write a function which returns the SAE. Then use it as an input to Scipy's optimiser to "
   ]
  },
  {
   "cell_type": "code",
   "execution_count": null,
   "metadata": {
    "collapsed": true
   },
   "outputs": [],
   "source": []
  }
 ],
 "metadata": {
  "kernelspec": {
   "display_name": "Python 3",
   "language": "python",
   "name": "python3"
  },
  "language_info": {
   "codemirror_mode": {
    "name": "ipython",
    "version": 3
   },
   "file_extension": ".py",
   "mimetype": "text/x-python",
   "name": "python",
   "nbconvert_exporter": "python",
   "pygments_lexer": "ipython3",
   "version": "3.7.7"
  }
 },
 "nbformat": 4,
 "nbformat_minor": 2
}
