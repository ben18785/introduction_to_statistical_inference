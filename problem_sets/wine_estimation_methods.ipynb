{
 "cells": [
  {
   "cell_type": "markdown",
   "metadata": {},
   "source": [
    "# Deriving parameter estimates from first principles\n",
    "\n",
    "In this problem, we are going to move away from using inbuilt methods for fitting regression models and, instead, write our methods for doing this. We are then going to investigate how different loss functions result in different parameter estimates.\n",
    "\n",
    "This problem is optional as it is more mathematically involved. If you don't feel like doing this maths, you can skip ahead to the next section."
   ]
  },
  {
   "cell_type": "markdown",
   "metadata": {},
   "source": [
    "We are first going to estimate these parameters using the \"least-squares\" method. This method selects values for $(a,b)$ by minimising the sum of square errors (SSE) between model predictions and observations:\n",
    "\n",
    "\\begin{equation}\n",
    "\\text{SSE} = \\sum_{i=1}^{n} (\\text{price}_i - (a + b *\\text{points}_i))^2\n",
    "\\end{equation}\n",
    "\n",
    "Write a function which takes a single two-element vector argument (\"params\", with \"params[0]=a\" and \"params[1]=b\") as an argument and returns the SSE."
   ]
  },
  {
   "cell_type": "markdown",
   "metadata": {},
   "source": [
    "We are now going to use Scipy's optimiser to find the parameters which minimise the SSE. To do so use:\n",
    "\n",
    "`import scipy.optimize as optimize`\n",
    "\n",
    "then use the `optimize.minimize` function to find them. Note, one of the function arguments is an initial guess of the parameter values. For this choose: $a=-400$ and $b=4$. Note also that the estimates are given as a dictionary and the \"x\" key corresponds to the parameter values.\n",
    "\n",
    "Confirm that these estimates are the same as were obtained via the sklearn approach."
   ]
  },
  {
   "cell_type": "markdown",
   "metadata": {},
   "source": [
    "We are now going to use the sum of absolute errors (SAE) as our distance function and use it to determine new estimates:\n",
    "\n",
    "\\begin{equation}\n",
    "\\text{SAE} = \\sum_{i=1}^{n} |\\text{price}_i - (a + b *\\text{points}_i)|\n",
    "\\end{equation}\n",
    "\n",
    "Write a function which returns the SAE. Then use it as an input to Scipy's optimiser to find the new parameter estimates. Compare the regression line from these estimates with the least-squares line."
   ]
  },
  {
   "cell_type": "markdown",
   "metadata": {},
   "source": [
    "Compare the estimates of the $b$ parameter from the least-squares and absolute deviation loss functions. Why are they different?"
   ]
  }
 ],
 "metadata": {
  "kernelspec": {
   "display_name": "Python 3",
   "language": "python",
   "name": "python3"
  },
  "language_info": {
   "codemirror_mode": {
    "name": "ipython",
    "version": 3
   },
   "file_extension": ".py",
   "mimetype": "text/x-python",
   "name": "python",
   "nbconvert_exporter": "python",
   "pygments_lexer": "ipython3",
   "version": "3.7.7"
  }
 },
 "nbformat": 4,
 "nbformat_minor": 2
}
