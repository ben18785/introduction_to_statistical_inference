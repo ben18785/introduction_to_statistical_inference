{
 "cells": [
  {
   "cell_type": "markdown",
   "metadata": {},
   "source": [
    "## Uncertainty through bootstrapping\n",
    "\n",
    "In this next section of the problems, we are going to determine an estimate of uncertainty in our least squares estimates of the log-log model:\n",
    "\n",
    "\\begin{equation}\n",
    "\\log\\text{price}_i = a + b * \\log\\text{points}_i + \\epsilon_i.\n",
    "\\end{equation}\n",
    "\n",
    "To do this, we are going to use boostrap sampling. In this, we randomly sample the rows of our dataset, with replacement, and re-estimate the regression model on each of these samples."
   ]
  },
  {
   "cell_type": "markdown",
   "metadata": {},
   "source": [
    "Write a function which draws a new bootstrap sample and uses the sklearn functionality to fit a least-squares regression to that dataset. Your function should return estimates of both $a$ and $b$."
   ]
  },
  {
   "cell_type": "markdown",
   "metadata": {},
   "source": [
    "Now use your function to obtain 3 bootstrap estimates of the parameters. Plot the regression lines for these three cases."
   ]
  },
  {
   "cell_type": "markdown",
   "metadata": {},
   "source": [
    "Now perform 1000 bootstrapped estimates and plot the distribution of $b$ estimates as a histogram."
   ]
  },
  {
   "cell_type": "markdown",
   "metadata": {},
   "source": [
    "What are your 95% uncertainty bounds on the parameter using these boostrapped estimates? Hint: use numpy's quantile function."
   ]
  },
  {
   "cell_type": "markdown",
   "metadata": {},
   "source": [
    "## Causality and regression"
   ]
  },
  {
   "cell_type": "markdown",
   "metadata": {},
   "source": [
    "What do the preceding analyses suggest is the effect of increasing wine quality (as measured by points) on the price that it sells for?"
   ]
  },
  {
   "cell_type": "markdown",
   "metadata": {},
   "source": [
    "In this situation, what sort of data would be need to collect to determine how wine quality affects its price?"
   ]
  }
 ],
 "metadata": {
  "kernelspec": {
   "display_name": "Python 3",
   "language": "python",
   "name": "python3"
  },
  "language_info": {
   "codemirror_mode": {
    "name": "ipython",
    "version": 3
   },
   "file_extension": ".py",
   "mimetype": "text/x-python",
   "name": "python",
   "nbconvert_exporter": "python",
   "pygments_lexer": "ipython3",
   "version": "3.7.7"
  }
 },
 "nbformat": 4,
 "nbformat_minor": 2
}
