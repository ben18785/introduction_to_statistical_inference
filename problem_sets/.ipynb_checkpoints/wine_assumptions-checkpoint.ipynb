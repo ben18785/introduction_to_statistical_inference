{
 "cells": [
  {
   "cell_type": "markdown",
   "metadata": {},
   "source": [
    "## Checking the model's assumptions\n",
    "\n",
    "In this set, we are going to run some diagnostic checks on our regression model. The first of these is going to check the linearity assumption.\n",
    "\n",
    "To do this, you will need to extract the residuals from the model. These are defined as the difference between the model predictions and the actual values:\n",
    "\n",
    "\\begin{equation}\n",
    "\\text{residual}_i = \\text{price}_i - (a + b * \\text{points}_i)\n",
    "\\end{equation}\n",
    "\n",
    "where $a$ and $b$ are the estimated parameters.\n",
    "\n",
    "First, calculate the residuals for the least-squares regression model. Then make a scatter plot of the residuals versus points. What does the plot indicate about this assumption?"
   ]
  },
  {
   "cell_type": "markdown",
   "metadata": {},
   "source": [
    "In our next diagnostic, we are going to check the assumption of the homogeneity of residual variance. To do this, we calculate the squared residuals then plot these versus the points."
   ]
  },
  {
   "cell_type": "markdown",
   "metadata": {},
   "source": [
    "What do you conclude about the validity of the assumptions behind the linear regression model from your previous checks?"
   ]
  },
  {
   "cell_type": "markdown",
   "metadata": {},
   "source": [
    "An alternative model takes the logarithm of both the points and the price and assumptions a linear relationship between these:\n",
    "\n",
    "\\begin{equation}\n",
    "\\log\\text{price}_i = a + b * \\log\\text{points}_i + \\epsilon_i\n",
    "\\end{equation}\n",
    "\n",
    "By adapting the sklearn code from above, estimate this regression model and plot your fitted regression line."
   ]
  },
  {
   "cell_type": "markdown",
   "metadata": {},
   "source": [
    "Now perform the same diagnostic checks on this new model as we previously performed. How does this model perform?"
   ]
  },
  {
   "cell_type": "markdown",
   "metadata": {},
   "source": [
    "# Further regression interpretation"
   ]
  },
  {
   "cell_type": "markdown",
   "metadata": {},
   "source": [
    "Using the parameter estimates from fitting the log-log model, determine which countries tend to have wine that is the best and worst value. (Note, remove the first 100 countries from the analysis to avoid outliers.)"
   ]
  }
 ],
 "metadata": {
  "kernelspec": {
   "display_name": "Python 3",
   "language": "python",
   "name": "python3"
  },
  "language_info": {
   "codemirror_mode": {
    "name": "ipython",
    "version": 3
   },
   "file_extension": ".py",
   "mimetype": "text/x-python",
   "name": "python",
   "nbconvert_exporter": "python",
   "pygments_lexer": "ipython3",
   "version": "3.7.7"
  }
 },
 "nbformat": 4,
 "nbformat_minor": 2
}
