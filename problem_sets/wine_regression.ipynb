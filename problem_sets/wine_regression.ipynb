{
 "cells": [
  {
   "cell_type": "markdown",
   "metadata": {},
   "source": [
    "# Analysing determinants of wine price using wine review data"
   ]
  },
  {
   "cell_type": "markdown",
   "metadata": {},
   "source": [
    "In this example, we are going to use a subset of a large [dataset of wine reviews](https://www.kaggle.com/zynicide/wine-reviews) to examine the relationship between critic-ascribed quality (\"points\") and the price of wines.\n",
    "\n",
    "The analysis is going to be carried out using regression."
   ]
  },
  {
   "cell_type": "markdown",
   "metadata": {},
   "source": [
    "Using Pandas, import the data into a dataframe and examine the first few rows of it."
   ]
  },
  {
   "cell_type": "markdown",
   "metadata": {},
   "source": [
    "Plot critic score (\"points\") versus price. To do this, use Matplotlib.pyplot's scatter function."
   ]
  },
  {
   "cell_type": "markdown",
   "metadata": {},
   "source": [
    "In this example, we are first going to assume a linear regression model of the form:\n",
    "\n",
    "\\begin{equation}\n",
    "\\text{price}_i = a + b *\\text{points}_i + \\epsilon_i\n",
    "\\end{equation}\n",
    "\n",
    "where $\\epsilon_i$ represents an error term and $a$ and $b$ are parameters to estimate."
   ]
  },
  {
   "cell_type": "markdown",
   "metadata": {},
   "source": [
    "We can find the least squares estimates of parameters using Sklearn via the following code:\n",
    "\n",
    "`from sklearn import linear_model\n",
    "reg = linear_model.LinearRegression()\n",
    "X = df[\"points\"]\n",
    "y = df[\"price\"]\n",
    "X = X.iloc[:, ].values.reshape(-1, 1)\n",
    "y = y.iloc[:, ].values.reshape(-1, 1)\n",
    "reg.fit(X, y)\n",
    "a = reg.intercept_[0]\n",
    "b = reg.coef_[0, 0]`\n",
    "\n",
    "Run this code to obtain estimates of the parameters."
   ]
  },
  {
   "cell_type": "markdown",
   "metadata": {},
   "source": [
    "What does your model suggest is the average associated increase in wine price for a 1 unit change in points?"
   ]
  },
  {
   "cell_type": "markdown",
   "metadata": {},
   "source": [
    "Plot your estimated model regression line on top of the data. To do this use the following steps:\n",
    "\n",
    "1. Create a vector of grid point values between 80 and 100 using numpy's linspace.\n",
    "2. Calculate predicted prices for each point value using your estimates of $a$ and $b$\n",
    "3. Reuse your scatter plot code from above and run `plt.plot(points, price)` after your previous `plt.scatter(..)` command to overlay the regression line on top."
   ]
  }
 ],
 "metadata": {
  "kernelspec": {
   "display_name": "Python 3",
   "language": "python",
   "name": "python3"
  },
  "language_info": {
   "codemirror_mode": {
    "name": "ipython",
    "version": 3
   },
   "file_extension": ".py",
   "mimetype": "text/x-python",
   "name": "python",
   "nbconvert_exporter": "python",
   "pygments_lexer": "ipython3",
   "version": "3.7.7"
  }
 },
 "nbformat": 4,
 "nbformat_minor": 2
}
